{
 "cells": [
  {
   "cell_type": "code",
   "execution_count": 8,
   "id": "927690aa-7de5-4dcb-b240-ac24bf1f1ed6",
   "metadata": {},
   "outputs": [],
   "source": [
    "import math\n",
    "import statistics\n",
    "import numpy as np\n",
    "import scipy.stats\n",
    "import pandas as pd"
   ]
  },
  {
   "cell_type": "code",
   "execution_count": 9,
   "id": "8b2eb496-ff26-4d9e-90a4-ecc498cff9d5",
   "metadata": {},
   "outputs": [],
   "source": [
    "import pandas as pd"
   ]
  },
  {
   "cell_type": "code",
   "execution_count": 13,
   "id": "9188fa73-72e1-40de-9ba5-cd10886026ce",
   "metadata": {
    "tags": []
   },
   "outputs": [
    {
     "name": "stdout",
     "output_type": "stream",
     "text": [
      "     sepal_length  sepal_width  petal_length  petal_width    variety  variety_num\n",
      "0             5.1          3.5           1.4          0.2     Setosa            0\n",
      "1             4.9          3.0           1.4          0.2     Setosa            0\n",
      "2             4.7          3.2           1.3          0.2     Setosa            0\n",
      "3             4.6          3.1           1.5          0.2     Setosa            0\n",
      "4             5.0          3.6           1.4          0.2     Setosa            0\n",
      "..            ...          ...           ...          ...        ...          ...\n",
      "145           6.7          3.0           5.2          2.3  Virginica            2\n",
      "146           6.3          2.5           5.0          1.9  Virginica            2\n",
      "147           6.5          3.0           5.2          2.0  Virginica            2\n",
      "148           6.2          3.4           5.4          2.3  Virginica            2\n",
      "149           5.9          3.0           5.1          1.8  Virginica            2\n",
      "\n",
      "[150 rows x 6 columns]\n"
     ]
    }
   ],
   "source": [
    "df1 = pd.read_csv('iris.CSV')\n",
    "path = df1\n",
    "print(df1)"
   ]
  },
  {
   "cell_type": "code",
   "execution_count": 20,
   "id": "5d8f6b5f-690f-4d04-8b3f-e8ab5eaf0c89",
   "metadata": {},
   "outputs": [
    {
     "name": "stdout",
     "output_type": "stream",
     "text": [
      "Количествово строк и столбцов: (150, 6)\n",
      "\n",
      "       sepal_length  sepal_width  petal_length  petal_width  variety_num\n",
      "count        150.00       150.00        150.00       150.00       150.00\n",
      "mean           5.84         3.06          3.76         1.20         1.00\n",
      "std            0.83         0.44          1.77         0.76         0.82\n",
      "min            4.30         2.00          1.00         0.10         0.00\n",
      "25%            5.10         2.80          1.60         0.30         0.00\n",
      "50%            5.80         3.00          4.35         1.30         1.00\n",
      "75%            6.40         3.30          5.10         1.80         2.00\n",
      "max            7.90         4.40          6.90         2.50         2.00\n"
     ]
    }
   ],
   "source": [
    "from pandas import read_csv\n",
    "from pandas import set_option\n",
    "path = df1\n",
    "set_option('display.width', 100)\n",
    "set_option('precision', 2)\n",
    "\n",
    "df1 = pd.read_csv('iris.csv')\n",
    "article_read = pd.read_csv('iris.csv') \n",
    "path = df1\n",
    "names = ['sepal_length', 'sepal_width', 'petal_length','petal_width']\n",
    "\n",
    "print('Количествово строк и столбцов:', df1.shape)\n",
    "print( )\n",
    "print(df1.describe())"
   ]
  },
  {
   "cell_type": "code",
   "execution_count": 24,
   "id": "fa21abb2-ccd3-4c10-906f-60eb87941d40",
   "metadata": {},
   "outputs": [
    {
     "data": {
      "text/html": [
       "<div>\n",
       "<style scoped>\n",
       "    .dataframe tbody tr th:only-of-type {\n",
       "        vertical-align: middle;\n",
       "    }\n",
       "\n",
       "    .dataframe tbody tr th {\n",
       "        vertical-align: top;\n",
       "    }\n",
       "\n",
       "    .dataframe thead th {\n",
       "        text-align: right;\n",
       "    }\n",
       "</style>\n",
       "<table border=\"1\" class=\"dataframe\">\n",
       "  <thead>\n",
       "    <tr style=\"text-align: right;\">\n",
       "      <th></th>\n",
       "      <th>sepal.length</th>\n",
       "      <th>sepal.width</th>\n",
       "      <th>petal.length</th>\n",
       "      <th>petal.width</th>\n",
       "    </tr>\n",
       "  </thead>\n",
       "  <tbody>\n",
       "    <tr>\n",
       "      <th>count</th>\n",
       "      <td>150.00</td>\n",
       "      <td>150.00</td>\n",
       "      <td>150.00</td>\n",
       "      <td>150.00</td>\n",
       "    </tr>\n",
       "    <tr>\n",
       "      <th>mean</th>\n",
       "      <td>5.84</td>\n",
       "      <td>3.06</td>\n",
       "      <td>3.76</td>\n",
       "      <td>1.20</td>\n",
       "    </tr>\n",
       "    <tr>\n",
       "      <th>std</th>\n",
       "      <td>0.83</td>\n",
       "      <td>0.44</td>\n",
       "      <td>1.77</td>\n",
       "      <td>0.76</td>\n",
       "    </tr>\n",
       "    <tr>\n",
       "      <th>min</th>\n",
       "      <td>4.30</td>\n",
       "      <td>2.00</td>\n",
       "      <td>1.00</td>\n",
       "      <td>0.10</td>\n",
       "    </tr>\n",
       "    <tr>\n",
       "      <th>25%</th>\n",
       "      <td>5.10</td>\n",
       "      <td>2.80</td>\n",
       "      <td>1.60</td>\n",
       "      <td>0.30</td>\n",
       "    </tr>\n",
       "    <tr>\n",
       "      <th>50%</th>\n",
       "      <td>5.80</td>\n",
       "      <td>3.00</td>\n",
       "      <td>4.35</td>\n",
       "      <td>1.30</td>\n",
       "    </tr>\n",
       "    <tr>\n",
       "      <th>75%</th>\n",
       "      <td>6.40</td>\n",
       "      <td>3.30</td>\n",
       "      <td>5.10</td>\n",
       "      <td>1.80</td>\n",
       "    </tr>\n",
       "    <tr>\n",
       "      <th>max</th>\n",
       "      <td>7.90</td>\n",
       "      <td>4.40</td>\n",
       "      <td>6.90</td>\n",
       "      <td>2.50</td>\n",
       "    </tr>\n",
       "  </tbody>\n",
       "</table>\n",
       "</div>"
      ],
      "text/plain": [
       "       sepal.length  sepal.width  petal.length  petal.width\n",
       "count        150.00       150.00        150.00       150.00\n",
       "mean           5.84         3.06          3.76         1.20\n",
       "std            0.83         0.44          1.77         0.76\n",
       "min            4.30         2.00          1.00         0.10\n",
       "25%            5.10         2.80          1.60         0.30\n",
       "50%            5.80         3.00          4.35         1.30\n",
       "75%            6.40         3.30          5.10         1.80\n",
       "max            7.90         4.40          6.90         2.50"
      ]
     },
     "execution_count": 24,
     "metadata": {},
     "output_type": "execute_result"
    }
   ],
   "source": [
    "result = path.describe()\n",
    "result"
   ]
  },
  {
   "cell_type": "code",
   "execution_count": 16,
   "id": "939cd3e9-249c-42c4-969e-5eb8913b906d",
   "metadata": {},
   "outputs": [
    {
     "data": {
      "text/plain": [
       "DescribeResult(nobs=150, minmax=(4.3, 7.9), mean=5.843333333333334, variance=0.6856935123042507, skewness=0.3149109566369729, kurtosis=-0.5520640413156395)"
      ]
     },
     "execution_count": 16,
     "metadata": {},
     "output_type": "execute_result"
    }
   ],
   "source": [
    "result = scipy.stats.describe(article_read.sepal_length, ddof=1, bias=False)\n",
    "result"
   ]
  },
  {
   "cell_type": "code",
   "execution_count": 17,
   "id": "2880190a-1091-47b6-98a9-3f387dcdce81",
   "metadata": {},
   "outputs": [
    {
     "data": {
      "text/plain": [
       "DescribeResult(nobs=150, minmax=(2.0, 4.4), mean=3.0573333333333337, variance=0.189979418344519, skewness=0.3189656647135998, kurtosis=0.2282490424681929)"
      ]
     },
     "execution_count": 17,
     "metadata": {},
     "output_type": "execute_result"
    }
   ],
   "source": [
    "result = scipy.stats.describe(article_read.sepal_width, ddof=1, bias=False)\n",
    "result"
   ]
  },
  {
   "cell_type": "code",
   "execution_count": 18,
   "id": "0b59c398-d4f7-471d-88c7-b382e0159cfa",
   "metadata": {},
   "outputs": [
    {
     "data": {
      "text/plain": [
       "DescribeResult(nobs=150, minmax=(1.0, 6.9), mean=3.7580000000000005, variance=3.116277852348993, skewness=-0.2748841797510128, kurtosis=-1.4021034155217516)"
      ]
     },
     "execution_count": 18,
     "metadata": {},
     "output_type": "execute_result"
    }
   ],
   "source": [
    "result = scipy.stats.describe(article_read.petal_length, ddof=1, bias=False)\n",
    "result"
   ]
  },
  {
   "cell_type": "code",
   "execution_count": 19,
   "id": "87d84b9b-e01a-457a-9f9d-7298cd4c2a83",
   "metadata": {},
   "outputs": [
    {
     "data": {
      "text/plain": [
       "DescribeResult(nobs=150, minmax=(0.1, 2.5), mean=1.1993333333333336, variance=0.5810062639821029, skewness=-0.1029667476489812, kurtosis=-1.3406039966126455)"
      ]
     },
     "execution_count": 19,
     "metadata": {},
     "output_type": "execute_result"
    }
   ],
   "source": [
    "result = scipy.stats.describe(article_read.petal_width, ddof=1, bias=False)\n",
    "result"
   ]
  },
  {
   "cell_type": "code",
   "execution_count": null,
   "id": "9ae0c15f-5ff4-4b38-b60b-6b186d2ea36a",
   "metadata": {},
   "outputs": [],
   "source": []
  }
 ],
 "metadata": {
  "kernelspec": {
   "display_name": "Python 3 (ipykernel)",
   "language": "python",
   "name": "python3"
  },
  "language_info": {
   "codemirror_mode": {
    "name": "ipython",
    "version": 3
   },
   "file_extension": ".py",
   "mimetype": "text/x-python",
   "name": "python",
   "nbconvert_exporter": "python",
   "pygments_lexer": "ipython3",
   "version": "3.9.7"
  }
 },
 "nbformat": 4,
 "nbformat_minor": 5
}
